{
 "cells": [
  {
   "cell_type": "markdown",
   "metadata": {
    "slideshow": {
     "slide_type": "slide"
    }
   },
   "source": [
    "# Introduction to Python - DDI training session - 22 Feb 2021\n",
    "\n",
    "Charlotte Desvages"
   ]
  },
  {
   "cell_type": "markdown",
   "metadata": {
    "slideshow": {
     "slide_type": "slide"
    }
   },
   "source": [
    "## Welcome!\n",
    "\n",
    "Today I'll give you an overview of what Python looks like, some examples of what it can do, and point you towards great resources to continue learning."
   ]
  },
  {
   "cell_type": "markdown",
   "metadata": {
    "slideshow": {
     "slide_type": "fragment"
    }
   },
   "source": [
    "We will have interactive code examples throughout the session, which you'll be able to run yourselves.\n",
    "\n",
    "We'll use a cloud service called Binder -- no need to install anything!"
   ]
  },
  {
   "cell_type": "markdown",
   "metadata": {
    "slideshow": {
     "slide_type": "subslide"
    }
   },
   "source": [
    "## Zoom communication\n",
    "\n",
    "At the bottom of the **participants list**:\n",
    "\n",
    "<img src=\"graphics/zoom.png\" alt=\"Zoom non-verbal feedback buttons.\" width=\"400\"/>\n",
    "\n",
    "You can also use the **chat** to ask questions."
   ]
  },
  {
   "cell_type": "markdown",
   "metadata": {
    "slideshow": {
     "slide_type": "subslide"
    }
   },
   "source": [
    "### How do I code along?\n",
    "\n",
    "## [`bit.ly/ddi-python`](http://bit.ly/ddi-python)\n",
    "\n",
    "When you go to this URL, you should see the content of these slides. This is a **Jupyter notebook** -- a Python programming environment that runs in your browser. Wait until it loads completely (~1min), then:\n",
    "- scroll down until you see the flags 🚩🚩🚩. Then, click on the **Python code cell** just below. You should see a green frame appearing around it.\n",
    "- Click the <kbd>> Run</kbd> button in the toolbar at the top (or press <kbd>Ctrl</kbd> + <kbd>Enter</kbd> on your keyboard). This will **run** the code inside the cell, and you will see the result below.\n",
    "\n",
    "# 🚩🚩🚩 Example 1"
   ]
  },
  {
   "cell_type": "code",
   "execution_count": 1,
   "metadata": {
    "scrolled": true
   },
   "outputs": [
    {
     "name": "stdout",
     "output_type": "stream",
     "text": [
      "Success! :)\n"
     ]
    }
   ],
   "source": [
    "print('Success! :)')"
   ]
  },
  {
   "cell_type": "code",
   "execution_count": 2,
   "metadata": {
    "scrolled": true,
    "slideshow": {
     "slide_type": "subslide"
    }
   },
   "outputs": [
    {
     "name": "stdout",
     "output_type": "stream",
     "text": [
      "Success! :)\n"
     ]
    }
   ],
   "source": [
    "print('Success! :)')"
   ]
  },
  {
   "cell_type": "markdown",
   "metadata": {
    "slideshow": {
     "slide_type": "-"
    }
   },
   "source": [
    "When you've run the code, `Success! :)` should appear **below** the code cell. If that's the case, come back on Zoom and click the green \"yes\" button; if not, click the red \"no\" button. **Don't close your browser tab or you'll lose your progress!**\n",
    "\n",
    "You can follow the presentation on Zoom. When there are code examples you can run and change yourself, they will be flagged with 🚩🚩🚩 if you want to jump back into your notebook."
   ]
  },
  {
   "cell_type": "markdown",
   "metadata": {
    "slideshow": {
     "slide_type": "slide"
    }
   },
   "source": [
    "## What is Python?\n",
    "\n",
    "\"Python\" refers to both the **programming language** and the **interpreter**. The interpreter is the tool which instructs your computer to execute the code you write."
   ]
  },
  {
   "cell_type": "markdown",
   "metadata": {
    "slideshow": {
     "slide_type": "fragment"
    }
   },
   "source": [
    "### Why should I learn Python?\n",
    "\n",
    "- It's **easier to learn** than most other languages.\n",
    "- It's **free** and open-source, and available on all major platforms.\n",
    "- There are a **lot** of well-maintained third-party libraries available for a wide variety of applications. We will see a couple of these today!\n",
    "- It has a very **large and welcoming community**, which is growing every day."
   ]
  },
  {
   "cell_type": "markdown",
   "metadata": {
    "slideshow": {
     "slide_type": "slide"
    }
   },
   "source": [
    "## Let's go!\n",
    "\n",
    "First, let's get Python to show us something, using the `print()` command."
   ]
  },
  {
   "cell_type": "code",
   "execution_count": 6,
   "metadata": {},
   "outputs": [
    {
     "name": "stdout",
     "output_type": "stream",
     "text": [
      "7\n",
      "12\n",
      "Hello!\n"
     ]
    }
   ],
   "source": [
    "print(3 + 4)\n",
    "print(4 * 3)\n",
    "print('Hello!')"
   ]
  },
  {
   "cell_type": "markdown",
   "metadata": {
    "slideshow": {
     "slide_type": "slide"
    }
   },
   "source": [
    "## Variables and objects\n",
    "\n",
    "In Python, all data is an **object** of a certain **type**. For example, we've seen number objects (`456`, `2 + 3`...), and string objects which represent text (`'Success! :)'`).\n",
    "\n",
    "We can store objects in memory to reuse them later, using **variables**."
   ]
  },
  {
   "cell_type": "markdown",
   "metadata": {
    "slideshow": {
     "slide_type": "subslide"
    }
   },
   "source": [
    "A **variable** is a **label** to some place in your computer's memory, where an object is stored.\n",
    "\n",
    "We often say that, in Python, a variable *points to* or *refers to* an object."
   ]
  },
  {
   "cell_type": "code",
   "execution_count": 8,
   "metadata": {
    "slideshow": {
     "slide_type": "fragment"
    }
   },
   "outputs": [
    {
     "name": "stdout",
     "output_type": "stream",
     "text": [
      "0.5\n"
     ]
    }
   ],
   "source": [
    "a = 0.5\n",
    "print(a)"
   ]
  },
  {
   "cell_type": "markdown",
   "metadata": {
    "slideshow": {
     "slide_type": "-"
    }
   },
   "source": [
    "<img alt=\"Assigning 0.5 to a\" src=\"graphics/var1.png\" width=600px>"
   ]
  },
  {
   "cell_type": "markdown",
   "metadata": {
    "slideshow": {
     "slide_type": "subslide"
    }
   },
   "source": [
    "# 🚩🚩🚩 Example 2\n",
    "\n",
    "What will be the output of each of these cells?"
   ]
  },
  {
   "cell_type": "code",
   "execution_count": 9,
   "metadata": {},
   "outputs": [
    {
     "name": "stdout",
     "output_type": "stream",
     "text": [
      "2.5\n"
     ]
    }
   ],
   "source": [
    "a = 0.5\n",
    "b = a + 2\n",
    "print(b)"
   ]
  },
  {
   "cell_type": "code",
   "execution_count": 10,
   "metadata": {},
   "outputs": [
    {
     "name": "stdout",
     "output_type": "stream",
     "text": [
      "1.25\n"
     ]
    }
   ],
   "source": [
    "c = a * b\n",
    "print(c)"
   ]
  },
  {
   "cell_type": "code",
   "execution_count": 11,
   "metadata": {
    "slideshow": {
     "slide_type": "subslide"
    }
   },
   "outputs": [
    {
     "name": "stdout",
     "output_type": "stream",
     "text": [
      "1\n"
     ]
    }
   ],
   "source": [
    "x = 1\n",
    "y = x\n",
    "x = 2\n",
    "print(y)"
   ]
  },
  {
   "cell_type": "code",
   "execution_count": 12,
   "metadata": {},
   "outputs": [
    {
     "name": "stdout",
     "output_type": "stream",
     "text": [
      "1.5\n"
     ]
    }
   ],
   "source": [
    "a = a + 1\n",
    "print(a)"
   ]
  },
  {
   "cell_type": "code",
   "execution_count": 14,
   "metadata": {
    "slideshow": {
     "slide_type": "subslide"
    }
   },
   "outputs": [
    {
     "name": "stdout",
     "output_type": "stream",
     "text": [
      "ABCABCABC\n",
      "ABCaaaaaa\n"
     ]
    }
   ],
   "source": [
    "s = 'ABC'\n",
    "t = 3 * s\n",
    "print(t)\n",
    "\n",
    "s = s + 'aaaaaa'\n",
    "print(s)"
   ]
  },
  {
   "cell_type": "markdown",
   "metadata": {
    "slideshow": {
     "slide_type": "slide"
    }
   },
   "source": [
    "## Data types\n",
    "\n",
    "Python can tell us what *type* an object is, using the function `type()`."
   ]
  },
  {
   "cell_type": "code",
   "execution_count": 25,
   "metadata": {},
   "outputs": [
    {
     "name": "stdout",
     "output_type": "stream",
     "text": [
      "<class 'int'>\n",
      "0.5\n",
      "<class 'float'>\n"
     ]
    }
   ],
   "source": [
    "c = 1\n",
    "print(type(c))\n",
    "c = c / 2\n",
    "print(c)\n",
    "print(type(c))"
   ]
  },
  {
   "cell_type": "markdown",
   "metadata": {
    "slideshow": {
     "slide_type": "subslide"
    }
   },
   "source": [
    "## A useful type to make decisions: `bool`\n"
   ]
  },
  {
   "cell_type": "code",
   "execution_count": 44,
   "metadata": {
    "slideshow": {
     "slide_type": "fragment"
    }
   },
   "outputs": [
    {
     "name": "stdout",
     "output_type": "stream",
     "text": [
      "Only b is true.\n"
     ]
    }
   ],
   "source": [
    "a = False\n",
    "b = True\n",
    "\n",
    "if a and b:\n",
    "    print('a and b are both True.')\n",
    "    print('Still true!')\n",
    "elif (not a) and (not b):\n",
    "    print('They\\'re both false.')\n",
    "else:\n",
    "    if a:\n",
    "        print('Only a is true.')\n",
    "    else:\n",
    "        print('Only b is true.')\n",
    "    \n",
    "print(2*5 + 3.4 - 5.6)"
   ]
  },
  {
   "cell_type": "code",
   "execution_count": 52,
   "metadata": {
    "slideshow": {
     "slide_type": "subslide"
    }
   },
   "outputs": [
    {
     "name": "stdout",
     "output_type": "stream",
     "text": [
      "True\n"
     ]
    }
   ],
   "source": [
    "x = 10\n",
    "y = 1\n",
    "\n",
    "print(x >= y)"
   ]
  },
  {
   "cell_type": "markdown",
   "metadata": {
    "slideshow": {
     "slide_type": "slide"
    }
   },
   "source": [
    "# 🚩🚩🚩 Example 3\n",
    "\n",
    "Let's play **Guess the number**:"
   ]
  },
  {
   "cell_type": "code",
   "execution_count": 81,
   "metadata": {},
   "outputs": [
    {
     "name": "stdout",
     "output_type": "stream",
     "text": [
      "Guess the number! 7\n",
      "Too high, guess again? 3\n",
      "Victory!\n"
     ]
    }
   ],
   "source": [
    "# Import the \"random\" library\n",
    "import random   # a comment after some code\n",
    "\n",
    "# Generate a random number between 1 and 10\n",
    "target = random.randint(1, 10)\n",
    "\n",
    "# Ask user to type a number\n",
    "guess = int(input('Guess the number! '))\n",
    "\n",
    "# Keep guessing while we haven't guessed correctly yet\n",
    "while target != guess:\n",
    "    if guess > target:\n",
    "        guess = int(input('Too high, guess again? '))\n",
    "    else:\n",
    "        guess = int(input('Too low, guess again? '))\n",
    "\n",
    "print('Victory!')\n"
   ]
  },
  {
   "cell_type": "markdown",
   "metadata": {
    "slideshow": {
     "slide_type": "slide"
    }
   },
   "source": [
    "## Containers: lists and dictionaries\n",
    "\n",
    "Python also has objects which can *contain* several other objects inside them -- they're called **containers**."
   ]
  },
  {
   "cell_type": "code",
   "execution_count": 85,
   "metadata": {
    "slideshow": {
     "slide_type": "subslide"
    }
   },
   "outputs": [
    {
     "name": "stdout",
     "output_type": "stream",
     "text": [
      "6\n"
     ]
    }
   ],
   "source": [
    "# Create a list called a\n",
    "a = [1, 2, 3, 10, 6]\n",
    "print(a[4])"
   ]
  },
  {
   "cell_type": "markdown",
   "metadata": {},
   "source": [
    "<img alt=\"The list a in memory\" src=\"graphics/lists.png\" width=800px>"
   ]
  },
  {
   "cell_type": "code",
   "execution_count": 86,
   "metadata": {
    "slideshow": {
     "slide_type": "fragment"
    }
   },
   "outputs": [
    {
     "name": "stdout",
     "output_type": "stream",
     "text": [
      "[1, 2, 3, -5, 6]\n"
     ]
    }
   ],
   "source": [
    "# Display and change individual elements\n",
    "a[3] = -5\n",
    "print(a)"
   ]
  },
  {
   "cell_type": "markdown",
   "metadata": {
    "slideshow": {
     "slide_type": "subslide"
    }
   },
   "source": [
    "We can put anything in a list -- even other lists!"
   ]
  },
  {
   "cell_type": "code",
   "execution_count": 91,
   "metadata": {},
   "outputs": [
    {
     "name": "stdout",
     "output_type": "stream",
     "text": [
      "they\n"
     ]
    }
   ],
   "source": [
    "a = ['my', 1, 4.5, ['you', 'they', True], 432, -2.3, 33, [False, 1]]\n",
    "print(a[3][1])"
   ]
  },
  {
   "cell_type": "markdown",
   "metadata": {
    "slideshow": {
     "slide_type": "subslide"
    }
   },
   "source": [
    "**Dictionaries** are similar to lists, but indexes elements with a **label** instead of a number."
   ]
  },
  {
   "cell_type": "code",
   "execution_count": 94,
   "metadata": {},
   "outputs": [
    {
     "name": "stdout",
     "output_type": "stream",
     "text": [
      "80\n",
      "{'Alice': 80, 'Bob': 64, 'Charlie': 72, 'Dara': 99}\n"
     ]
    }
   ],
   "source": [
    "# Create a dictionary called scores\n",
    "scores = {'Alice': 80, 'Bob': 64, 'Charlie': 72}\n",
    "print(scores['Alice'])\n",
    "scores['Dara'] = 99\n",
    "print(scores)"
   ]
  },
  {
   "cell_type": "markdown",
   "metadata": {},
   "source": [
    "<img alt=\"The dictionary scores in memory\" src=\"graphics/dict.png\" width=800px>"
   ]
  },
  {
   "cell_type": "markdown",
   "metadata": {
    "slideshow": {
     "slide_type": "slide"
    }
   },
   "source": [
    "## Python and data: the `pandas` library\n",
    "\n",
    "A **library** is a bit like an extra toolbox with specialist tools.\n",
    "\n",
    "`pandas` (Python Data Analysis Library) is particularly useful to deal with data."
   ]
  },
  {
   "cell_type": "code",
   "execution_count": 96,
   "metadata": {},
   "outputs": [],
   "source": [
    "import pandas as pd\n"
   ]
  },
  {
   "cell_type": "markdown",
   "metadata": {},
   "source": [
    "We'll use the [astronauts database](https://github.com/rfordatascience/tidytuesday/tree/master/data/2020/2020-07-14)."
   ]
  },
  {
   "cell_type": "code",
   "execution_count": 97,
   "metadata": {
    "slideshow": {
     "slide_type": "fragment"
    }
   },
   "outputs": [
    {
     "name": "stdout",
     "output_type": "stream",
     "text": [
      "<class 'pandas.core.frame.DataFrame'>\n"
     ]
    }
   ],
   "source": [
    "astronauts = pd.read_csv('astronauts.csv')\n",
    "print(type(astronauts))"
   ]
  },
  {
   "cell_type": "markdown",
   "metadata": {
    "slideshow": {
     "slide_type": "subslide"
    }
   },
   "source": [
    "# 🚩🚩🚩 Example 4\n",
    "\n",
    "Run the cell below to import pandas and read the CSV file."
   ]
  },
  {
   "cell_type": "code",
   "execution_count": 98,
   "metadata": {},
   "outputs": [],
   "source": [
    "import pandas as pd\n",
    "astronauts = pd.read_csv('astronauts.csv')"
   ]
  },
  {
   "cell_type": "markdown",
   "metadata": {
    "slideshow": {
     "slide_type": "subslide"
    }
   },
   "source": [
    "Then, try these commands (one at a time):\n",
    "\n",
    "```python\n",
    "print(astronauts.columns)\n",
    "astronauts.head()\n",
    "astronauts.tail()\n",
    "astronauts.head(10)\n",
    "```"
   ]
  },
  {
   "cell_type": "code",
   "execution_count": 102,
   "metadata": {},
   "outputs": [
    {
     "data": {
      "text/html": [
       "<div>\n",
       "<style scoped>\n",
       "    .dataframe tbody tr th:only-of-type {\n",
       "        vertical-align: middle;\n",
       "    }\n",
       "\n",
       "    .dataframe tbody tr th {\n",
       "        vertical-align: top;\n",
       "    }\n",
       "\n",
       "    .dataframe thead th {\n",
       "        text-align: right;\n",
       "    }\n",
       "</style>\n",
       "<table border=\"1\" class=\"dataframe\">\n",
       "  <thead>\n",
       "    <tr style=\"text-align: right;\">\n",
       "      <th></th>\n",
       "      <th>id</th>\n",
       "      <th>number</th>\n",
       "      <th>nationwide_number</th>\n",
       "      <th>name</th>\n",
       "      <th>original_name</th>\n",
       "      <th>sex</th>\n",
       "      <th>year_of_birth</th>\n",
       "      <th>nationality</th>\n",
       "      <th>military_civilian</th>\n",
       "      <th>selection</th>\n",
       "      <th>...</th>\n",
       "      <th>year_of_mission</th>\n",
       "      <th>mission_title</th>\n",
       "      <th>ascend_shuttle</th>\n",
       "      <th>in_orbit</th>\n",
       "      <th>descend_shuttle</th>\n",
       "      <th>hours_mission</th>\n",
       "      <th>total_hrs_sum</th>\n",
       "      <th>field21</th>\n",
       "      <th>eva_hrs_mission</th>\n",
       "      <th>total_eva_hrs</th>\n",
       "    </tr>\n",
       "  </thead>\n",
       "  <tbody>\n",
       "    <tr>\n",
       "      <th>1267</th>\n",
       "      <td>1268</td>\n",
       "      <td>557</td>\n",
       "      <td>122</td>\n",
       "      <td>Prokopyev, Sergei</td>\n",
       "      <td>Сергей Валерьевич Прокопьев</td>\n",
       "      <td>male</td>\n",
       "      <td>1975</td>\n",
       "      <td>U.S.S.R/Russia</td>\n",
       "      <td>military</td>\n",
       "      <td>TsPK-15</td>\n",
       "      <td>...</td>\n",
       "      <td>2018</td>\n",
       "      <td>56</td>\n",
       "      <td>Soyuz MS-09</td>\n",
       "      <td>ISS</td>\n",
       "      <td>Soyuz MS-09</td>\n",
       "      <td>4722.00</td>\n",
       "      <td>4722.00</td>\n",
       "      <td>2</td>\n",
       "      <td>15.52</td>\n",
       "      <td>15.52</td>\n",
       "    </tr>\n",
       "    <tr>\n",
       "      <th>1268</th>\n",
       "      <td>1269</td>\n",
       "      <td>558</td>\n",
       "      <td>343</td>\n",
       "      <td>Auñón-Chancellor, Serena</td>\n",
       "      <td>Auñón-Chancellor, Serena</td>\n",
       "      <td>female</td>\n",
       "      <td>1976</td>\n",
       "      <td>U.S.</td>\n",
       "      <td>civilian</td>\n",
       "      <td>NASA-20</td>\n",
       "      <td>...</td>\n",
       "      <td>2018</td>\n",
       "      <td>56</td>\n",
       "      <td>Soyuz MS-09</td>\n",
       "      <td>ISS</td>\n",
       "      <td>Soyuz MS-09</td>\n",
       "      <td>4722.00</td>\n",
       "      <td>4722.00</td>\n",
       "      <td>0</td>\n",
       "      <td>0.00</td>\n",
       "      <td>0.00</td>\n",
       "    </tr>\n",
       "    <tr>\n",
       "      <th>1269</th>\n",
       "      <td>1270</td>\n",
       "      <td>559</td>\n",
       "      <td>344</td>\n",
       "      <td>Hague, Tyler</td>\n",
       "      <td>Hague, Tyler</td>\n",
       "      <td>male</td>\n",
       "      <td>1975</td>\n",
       "      <td>U.S.</td>\n",
       "      <td>military</td>\n",
       "      <td>NASA-21</td>\n",
       "      <td>...</td>\n",
       "      <td>2018</td>\n",
       "      <td>57</td>\n",
       "      <td>Soyuz MS-10</td>\n",
       "      <td>aborted</td>\n",
       "      <td>aborted</td>\n",
       "      <td>0.00</td>\n",
       "      <td>4864.00</td>\n",
       "      <td>3</td>\n",
       "      <td>19.93</td>\n",
       "      <td>19.93</td>\n",
       "    </tr>\n",
       "    <tr>\n",
       "      <th>1270</th>\n",
       "      <td>1271</td>\n",
       "      <td>559</td>\n",
       "      <td>433</td>\n",
       "      <td>Hague, Tyler</td>\n",
       "      <td>Hague, Tyler</td>\n",
       "      <td>male</td>\n",
       "      <td>1975</td>\n",
       "      <td>U.S.</td>\n",
       "      <td>military</td>\n",
       "      <td>NASA-21</td>\n",
       "      <td>...</td>\n",
       "      <td>2019</td>\n",
       "      <td>59</td>\n",
       "      <td>Soyuz MS-12</td>\n",
       "      <td>ISS</td>\n",
       "      <td>Soyuz MS-12</td>\n",
       "      <td>4864.00</td>\n",
       "      <td>4864.00</td>\n",
       "      <td>3</td>\n",
       "      <td>19.93</td>\n",
       "      <td>19.93</td>\n",
       "    </tr>\n",
       "    <tr>\n",
       "      <th>1271</th>\n",
       "      <td>1272</td>\n",
       "      <td>560</td>\n",
       "      <td>10</td>\n",
       "      <td>Saint-Jaques, David</td>\n",
       "      <td>Saint-Jaques, David</td>\n",
       "      <td>male</td>\n",
       "      <td>1970</td>\n",
       "      <td>Canada</td>\n",
       "      <td>civilian</td>\n",
       "      <td>CSA-3</td>\n",
       "      <td>...</td>\n",
       "      <td>2018</td>\n",
       "      <td>57</td>\n",
       "      <td>Soyuz MS-11</td>\n",
       "      <td>ISS</td>\n",
       "      <td>Soyuz MS-11</td>\n",
       "      <td>4887.00</td>\n",
       "      <td>4887.00</td>\n",
       "      <td>1</td>\n",
       "      <td>6.50</td>\n",
       "      <td>6.50</td>\n",
       "    </tr>\n",
       "    <tr>\n",
       "      <th>1272</th>\n",
       "      <td>1273</td>\n",
       "      <td>561</td>\n",
       "      <td>345</td>\n",
       "      <td>McClain, Anne Charlotte</td>\n",
       "      <td>McClain, Anne Charlotte</td>\n",
       "      <td>female</td>\n",
       "      <td>1979</td>\n",
       "      <td>U.S.</td>\n",
       "      <td>military</td>\n",
       "      <td>NASA-21</td>\n",
       "      <td>...</td>\n",
       "      <td>2018</td>\n",
       "      <td>57</td>\n",
       "      <td>Soyuz MS-11</td>\n",
       "      <td>ISS</td>\n",
       "      <td>Soyuz MS-11</td>\n",
       "      <td>4887.00</td>\n",
       "      <td>4887.00</td>\n",
       "      <td>2</td>\n",
       "      <td>13.13</td>\n",
       "      <td>13.13</td>\n",
       "    </tr>\n",
       "    <tr>\n",
       "      <th>1273</th>\n",
       "      <td>1274</td>\n",
       "      <td>562</td>\n",
       "      <td>346</td>\n",
       "      <td>Koch, Christina</td>\n",
       "      <td>Koch, Christina</td>\n",
       "      <td>female</td>\n",
       "      <td>1979</td>\n",
       "      <td>U.S.</td>\n",
       "      <td>civilian</td>\n",
       "      <td>NASA-21</td>\n",
       "      <td>...</td>\n",
       "      <td>2019</td>\n",
       "      <td>59</td>\n",
       "      <td>Soyuz MS-12</td>\n",
       "      <td>ISS</td>\n",
       "      <td>not completed yet</td>\n",
       "      <td>7372.30</td>\n",
       "      <td>7372.30</td>\n",
       "      <td>4</td>\n",
       "      <td>27.80</td>\n",
       "      <td>27.80</td>\n",
       "    </tr>\n",
       "    <tr>\n",
       "      <th>1274</th>\n",
       "      <td>1275</td>\n",
       "      <td>563</td>\n",
       "      <td>347</td>\n",
       "      <td>Morgan, Andrew</td>\n",
       "      <td>Morgan, Andrew</td>\n",
       "      <td>male</td>\n",
       "      <td>1976</td>\n",
       "      <td>U.S.</td>\n",
       "      <td>military</td>\n",
       "      <td>NASA-21</td>\n",
       "      <td>...</td>\n",
       "      <td>2019</td>\n",
       "      <td>60</td>\n",
       "      <td>Soyuz MS-13</td>\n",
       "      <td>ISS</td>\n",
       "      <td>not completed yet</td>\n",
       "      <td>4303.08</td>\n",
       "      <td>4303.08</td>\n",
       "      <td>6</td>\n",
       "      <td>39.52</td>\n",
       "      <td>39.52</td>\n",
       "    </tr>\n",
       "    <tr>\n",
       "      <th>1275</th>\n",
       "      <td>1276</td>\n",
       "      <td>564</td>\n",
       "      <td>348</td>\n",
       "      <td>Meir, Jessica</td>\n",
       "      <td>Meir, Jessica</td>\n",
       "      <td>female</td>\n",
       "      <td>1977</td>\n",
       "      <td>U.S.</td>\n",
       "      <td>civilian</td>\n",
       "      <td>NASA-21</td>\n",
       "      <td>...</td>\n",
       "      <td>2019</td>\n",
       "      <td>60</td>\n",
       "      <td>Soyuz MS-15</td>\n",
       "      <td>ISS</td>\n",
       "      <td>not completed yet</td>\n",
       "      <td>2697.60</td>\n",
       "      <td>2697.60</td>\n",
       "      <td>1</td>\n",
       "      <td>7.28</td>\n",
       "      <td>7.28</td>\n",
       "    </tr>\n",
       "    <tr>\n",
       "      <th>1276</th>\n",
       "      <td>1277</td>\n",
       "      <td>565</td>\n",
       "      <td>1</td>\n",
       "      <td>Al Mansoori, Hazzaa</td>\n",
       "      <td>هَزَّاع ٱلْمَنْصُوْرِي</td>\n",
       "      <td>male</td>\n",
       "      <td>1983</td>\n",
       "      <td>UAE</td>\n",
       "      <td>military</td>\n",
       "      <td>MBRSC Selection 1</td>\n",
       "      <td>...</td>\n",
       "      <td>2019</td>\n",
       "      <td>EP-19</td>\n",
       "      <td>Soyuz MS-15</td>\n",
       "      <td>ISS</td>\n",
       "      <td>Soyuz MS-12</td>\n",
       "      <td>189.00</td>\n",
       "      <td>189.00</td>\n",
       "      <td>0</td>\n",
       "      <td>0.00</td>\n",
       "      <td>0.00</td>\n",
       "    </tr>\n",
       "  </tbody>\n",
       "</table>\n",
       "<p>10 rows × 24 columns</p>\n",
       "</div>"
      ],
      "text/plain": [
       "        id  number  nationwide_number                      name  \\\n",
       "1267  1268     557                122         Prokopyev, Sergei   \n",
       "1268  1269     558                343  Auñón-Chancellor, Serena   \n",
       "1269  1270     559                344              Hague, Tyler   \n",
       "1270  1271     559                433              Hague, Tyler   \n",
       "1271  1272     560                 10       Saint-Jaques, David   \n",
       "1272  1273     561                345   McClain, Anne Charlotte   \n",
       "1273  1274     562                346           Koch, Christina   \n",
       "1274  1275     563                347            Morgan, Andrew   \n",
       "1275  1276     564                348             Meir, Jessica   \n",
       "1276  1277     565                  1       Al Mansoori, Hazzaa   \n",
       "\n",
       "                    original_name     sex  year_of_birth     nationality  \\\n",
       "1267  Сергей Валерьевич Прокопьев    male           1975  U.S.S.R/Russia   \n",
       "1268     Auñón-Chancellor, Serena  female           1976            U.S.   \n",
       "1269                 Hague, Tyler    male           1975            U.S.   \n",
       "1270                 Hague, Tyler    male           1975            U.S.   \n",
       "1271          Saint-Jaques, David    male           1970          Canada   \n",
       "1272      McClain, Anne Charlotte  female           1979            U.S.   \n",
       "1273              Koch, Christina  female           1979            U.S.   \n",
       "1274               Morgan, Andrew    male           1976            U.S.   \n",
       "1275                Meir, Jessica  female           1977            U.S.   \n",
       "1276       هَزَّاع ٱلْمَنْصُوْرِي    male           1983             UAE   \n",
       "\n",
       "     military_civilian          selection  ...  year_of_mission  \\\n",
       "1267          military            TsPK-15  ...             2018   \n",
       "1268          civilian            NASA-20  ...             2018   \n",
       "1269          military            NASA-21  ...             2018   \n",
       "1270          military            NASA-21  ...             2019   \n",
       "1271          civilian              CSA-3  ...             2018   \n",
       "1272          military            NASA-21  ...             2018   \n",
       "1273          civilian            NASA-21  ...             2019   \n",
       "1274          military            NASA-21  ...             2019   \n",
       "1275          civilian            NASA-21  ...             2019   \n",
       "1276          military  MBRSC Selection 1  ...             2019   \n",
       "\n",
       "      mission_title  ascend_shuttle in_orbit    descend_shuttle hours_mission  \\\n",
       "1267             56     Soyuz MS-09      ISS        Soyuz MS-09       4722.00   \n",
       "1268             56     Soyuz MS-09      ISS        Soyuz MS-09       4722.00   \n",
       "1269             57     Soyuz MS-10  aborted            aborted          0.00   \n",
       "1270             59     Soyuz MS-12      ISS        Soyuz MS-12       4864.00   \n",
       "1271             57     Soyuz MS-11      ISS        Soyuz MS-11       4887.00   \n",
       "1272             57     Soyuz MS-11      ISS        Soyuz MS-11       4887.00   \n",
       "1273             59     Soyuz MS-12      ISS  not completed yet       7372.30   \n",
       "1274             60     Soyuz MS-13      ISS  not completed yet       4303.08   \n",
       "1275             60     Soyuz MS-15      ISS  not completed yet       2697.60   \n",
       "1276          EP-19     Soyuz MS-15      ISS        Soyuz MS-12        189.00   \n",
       "\n",
       "     total_hrs_sum field21 eva_hrs_mission  total_eva_hrs  \n",
       "1267       4722.00       2           15.52          15.52  \n",
       "1268       4722.00       0            0.00           0.00  \n",
       "1269       4864.00       3           19.93          19.93  \n",
       "1270       4864.00       3           19.93          19.93  \n",
       "1271       4887.00       1            6.50           6.50  \n",
       "1272       4887.00       2           13.13          13.13  \n",
       "1273       7372.30       4           27.80          27.80  \n",
       "1274       4303.08       6           39.52          39.52  \n",
       "1275       2697.60       1            7.28           7.28  \n",
       "1276        189.00       0            0.00           0.00  \n",
       "\n",
       "[10 rows x 24 columns]"
      ]
     },
     "execution_count": 102,
     "metadata": {},
     "output_type": "execute_result"
    }
   ],
   "source": [
    "astronauts.tail(10)"
   ]
  },
  {
   "cell_type": "markdown",
   "metadata": {
    "slideshow": {
     "slide_type": "slide"
    }
   },
   "source": [
    "## Summary statistics"
   ]
  },
  {
   "cell_type": "code",
   "execution_count": 115,
   "metadata": {
    "scrolled": false
   },
   "outputs": [
    {
     "data": {
      "text/html": [
       "<div>\n",
       "<style scoped>\n",
       "    .dataframe tbody tr th:only-of-type {\n",
       "        vertical-align: middle;\n",
       "    }\n",
       "\n",
       "    .dataframe tbody tr th {\n",
       "        vertical-align: top;\n",
       "    }\n",
       "\n",
       "    .dataframe thead th {\n",
       "        text-align: right;\n",
       "    }\n",
       "</style>\n",
       "<table border=\"1\" class=\"dataframe\">\n",
       "  <thead>\n",
       "    <tr style=\"text-align: right;\">\n",
       "      <th></th>\n",
       "      <th>id</th>\n",
       "      <th>number</th>\n",
       "      <th>nationwide_number</th>\n",
       "      <th>name</th>\n",
       "      <th>original_name</th>\n",
       "      <th>sex</th>\n",
       "      <th>year_of_birth</th>\n",
       "      <th>nationality</th>\n",
       "      <th>military_civilian</th>\n",
       "      <th>selection</th>\n",
       "      <th>...</th>\n",
       "      <th>mission_title</th>\n",
       "      <th>ascend_shuttle</th>\n",
       "      <th>in_orbit</th>\n",
       "      <th>descend_shuttle</th>\n",
       "      <th>hours_mission</th>\n",
       "      <th>total_hrs_sum</th>\n",
       "      <th>field21</th>\n",
       "      <th>eva_hrs_mission</th>\n",
       "      <th>total_eva_hrs</th>\n",
       "      <th>age</th>\n",
       "    </tr>\n",
       "  </thead>\n",
       "  <tbody>\n",
       "    <tr>\n",
       "      <th>0</th>\n",
       "      <td>1</td>\n",
       "      <td>1</td>\n",
       "      <td>1</td>\n",
       "      <td>Gagarin, Yuri</td>\n",
       "      <td>ГАГАРИН Юрий Алексеевич</td>\n",
       "      <td>male</td>\n",
       "      <td>1934</td>\n",
       "      <td>U.S.S.R/Russia</td>\n",
       "      <td>military</td>\n",
       "      <td>TsPK-1</td>\n",
       "      <td>...</td>\n",
       "      <td>Vostok 1</td>\n",
       "      <td>Vostok 1</td>\n",
       "      <td>Vostok 2</td>\n",
       "      <td>Vostok 3</td>\n",
       "      <td>1.77</td>\n",
       "      <td>1.77</td>\n",
       "      <td>0</td>\n",
       "      <td>0.0</td>\n",
       "      <td>0.0</td>\n",
       "      <td>27</td>\n",
       "    </tr>\n",
       "    <tr>\n",
       "      <th>1</th>\n",
       "      <td>2</td>\n",
       "      <td>2</td>\n",
       "      <td>2</td>\n",
       "      <td>Titov, Gherman</td>\n",
       "      <td>ТИТОВ Герман Степанович</td>\n",
       "      <td>male</td>\n",
       "      <td>1935</td>\n",
       "      <td>U.S.S.R/Russia</td>\n",
       "      <td>military</td>\n",
       "      <td>TsPK-1</td>\n",
       "      <td>...</td>\n",
       "      <td>Vostok 2</td>\n",
       "      <td>Vostok 2</td>\n",
       "      <td>Vostok 2</td>\n",
       "      <td>Vostok 2</td>\n",
       "      <td>25.00</td>\n",
       "      <td>25.30</td>\n",
       "      <td>0</td>\n",
       "      <td>0.0</td>\n",
       "      <td>0.0</td>\n",
       "      <td>26</td>\n",
       "    </tr>\n",
       "    <tr>\n",
       "      <th>2</th>\n",
       "      <td>3</td>\n",
       "      <td>3</td>\n",
       "      <td>1</td>\n",
       "      <td>Glenn, John H., Jr.</td>\n",
       "      <td>Glenn, John H., Jr.</td>\n",
       "      <td>male</td>\n",
       "      <td>1921</td>\n",
       "      <td>U.S.</td>\n",
       "      <td>military</td>\n",
       "      <td>NASA Astronaut Group 1</td>\n",
       "      <td>...</td>\n",
       "      <td>MA-6</td>\n",
       "      <td>MA-6</td>\n",
       "      <td>MA-6</td>\n",
       "      <td>MA-6</td>\n",
       "      <td>5.00</td>\n",
       "      <td>218.00</td>\n",
       "      <td>0</td>\n",
       "      <td>0.0</td>\n",
       "      <td>0.0</td>\n",
       "      <td>41</td>\n",
       "    </tr>\n",
       "    <tr>\n",
       "      <th>3</th>\n",
       "      <td>4</td>\n",
       "      <td>3</td>\n",
       "      <td>1</td>\n",
       "      <td>Glenn, John H., Jr.</td>\n",
       "      <td>Glenn, John H., Jr.</td>\n",
       "      <td>male</td>\n",
       "      <td>1921</td>\n",
       "      <td>U.S.</td>\n",
       "      <td>military</td>\n",
       "      <td>NASA Astronaut Group 2</td>\n",
       "      <td>...</td>\n",
       "      <td>STS-95</td>\n",
       "      <td>STS-95</td>\n",
       "      <td>STS-95</td>\n",
       "      <td>STS-95</td>\n",
       "      <td>213.00</td>\n",
       "      <td>218.00</td>\n",
       "      <td>0</td>\n",
       "      <td>0.0</td>\n",
       "      <td>0.0</td>\n",
       "      <td>77</td>\n",
       "    </tr>\n",
       "    <tr>\n",
       "      <th>4</th>\n",
       "      <td>5</td>\n",
       "      <td>4</td>\n",
       "      <td>2</td>\n",
       "      <td>Carpenter, M. Scott</td>\n",
       "      <td>Carpenter, M. Scott</td>\n",
       "      <td>male</td>\n",
       "      <td>1925</td>\n",
       "      <td>U.S.</td>\n",
       "      <td>military</td>\n",
       "      <td>NASA- 1</td>\n",
       "      <td>...</td>\n",
       "      <td>Mercury-Atlas 7</td>\n",
       "      <td>Mercury-Atlas 7</td>\n",
       "      <td>Mercury-Atlas 7</td>\n",
       "      <td>Mercury-Atlas 7</td>\n",
       "      <td>5.00</td>\n",
       "      <td>5.00</td>\n",
       "      <td>0</td>\n",
       "      <td>0.0</td>\n",
       "      <td>0.0</td>\n",
       "      <td>37</td>\n",
       "    </tr>\n",
       "  </tbody>\n",
       "</table>\n",
       "<p>5 rows × 25 columns</p>\n",
       "</div>"
      ],
      "text/plain": [
       "   id  number  nationwide_number                 name  \\\n",
       "0   1       1                  1        Gagarin, Yuri   \n",
       "1   2       2                  2       Titov, Gherman   \n",
       "2   3       3                  1  Glenn, John H., Jr.   \n",
       "3   4       3                  1  Glenn, John H., Jr.   \n",
       "4   5       4                  2  Carpenter, M. Scott   \n",
       "\n",
       "             original_name   sex  year_of_birth     nationality  \\\n",
       "0  ГАГАРИН Юрий Алексеевич  male           1934  U.S.S.R/Russia   \n",
       "1  ТИТОВ Герман Степанович  male           1935  U.S.S.R/Russia   \n",
       "2      Glenn, John H., Jr.  male           1921            U.S.   \n",
       "3      Glenn, John H., Jr.  male           1921            U.S.   \n",
       "4      Carpenter, M. Scott  male           1925            U.S.   \n",
       "\n",
       "  military_civilian               selection  ...    mission_title  \\\n",
       "0          military                  TsPK-1  ...         Vostok 1   \n",
       "1          military                  TsPK-1  ...         Vostok 2   \n",
       "2          military  NASA Astronaut Group 1  ...             MA-6   \n",
       "3          military  NASA Astronaut Group 2  ...           STS-95   \n",
       "4          military                 NASA- 1  ...  Mercury-Atlas 7   \n",
       "\n",
       "    ascend_shuttle         in_orbit  descend_shuttle  hours_mission  \\\n",
       "0         Vostok 1         Vostok 2         Vostok 3           1.77   \n",
       "1         Vostok 2         Vostok 2         Vostok 2          25.00   \n",
       "2             MA-6             MA-6             MA-6           5.00   \n",
       "3           STS-95           STS-95           STS-95         213.00   \n",
       "4  Mercury-Atlas 7  Mercury-Atlas 7  Mercury-Atlas 7           5.00   \n",
       "\n",
       "  total_hrs_sum field21 eva_hrs_mission total_eva_hrs  age  \n",
       "0          1.77       0             0.0           0.0   27  \n",
       "1         25.30       0             0.0           0.0   26  \n",
       "2        218.00       0             0.0           0.0   41  \n",
       "3        218.00       0             0.0           0.0   77  \n",
       "4          5.00       0             0.0           0.0   37  \n",
       "\n",
       "[5 rows x 25 columns]"
      ]
     },
     "execution_count": 115,
     "metadata": {},
     "output_type": "execute_result"
    }
   ],
   "source": [
    "astronauts['age'] = astronauts['year_of_mission'] - astronauts['year_of_birth']\n",
    "astronauts.head()"
   ]
  },
  {
   "cell_type": "code",
   "execution_count": 118,
   "metadata": {
    "slideshow": {
     "slide_type": "subslide"
    }
   },
   "outputs": [
    {
     "data": {
      "text/plain": [
       "count    1277.000000\n",
       "mean       42.913861\n",
       "std         5.819552\n",
       "min        26.000000\n",
       "25%        39.000000\n",
       "50%        42.000000\n",
       "75%        47.000000\n",
       "max        77.000000\n",
       "Name: age, dtype: float64"
      ]
     },
     "execution_count": 118,
     "metadata": {},
     "output_type": "execute_result"
    }
   ],
   "source": [
    "astronauts['age'].describe()"
   ]
  },
  {
   "cell_type": "code",
   "execution_count": 123,
   "metadata": {},
   "outputs": [
    {
     "data": {
      "text/html": [
       "<div>\n",
       "<style scoped>\n",
       "    .dataframe tbody tr th:only-of-type {\n",
       "        vertical-align: middle;\n",
       "    }\n",
       "\n",
       "    .dataframe tbody tr th {\n",
       "        vertical-align: top;\n",
       "    }\n",
       "\n",
       "    .dataframe thead th {\n",
       "        text-align: right;\n",
       "    }\n",
       "</style>\n",
       "<table border=\"1\" class=\"dataframe\">\n",
       "  <thead>\n",
       "    <tr style=\"text-align: right;\">\n",
       "      <th></th>\n",
       "      <th>name</th>\n",
       "      <th>age</th>\n",
       "    </tr>\n",
       "  </thead>\n",
       "  <tbody>\n",
       "    <tr>\n",
       "      <th>3</th>\n",
       "      <td>Glenn, John H., Jr.</td>\n",
       "      <td>77</td>\n",
       "    </tr>\n",
       "    <tr>\n",
       "      <th>230</th>\n",
       "      <td>Musgrave, Franklin Story</td>\n",
       "      <td>61</td>\n",
       "    </tr>\n",
       "    <tr>\n",
       "      <th>998</th>\n",
       "      <td>Tito, Dennis Anthony</td>\n",
       "      <td>61</td>\n",
       "    </tr>\n",
       "    <tr>\n",
       "      <th>1096</th>\n",
       "      <td>Simonyi, Charles (Karoly)</td>\n",
       "      <td>61</td>\n",
       "    </tr>\n",
       "    <tr>\n",
       "      <th>1118</th>\n",
       "      <td>Nespoli, Paolo A.</td>\n",
       "      <td>60</td>\n",
       "    </tr>\n",
       "  </tbody>\n",
       "</table>\n",
       "</div>"
      ],
      "text/plain": [
       "                           name  age\n",
       "3           Glenn, John H., Jr.   77\n",
       "230    Musgrave, Franklin Story   61\n",
       "998        Tito, Dennis Anthony   61\n",
       "1096  Simonyi, Charles (Karoly)   61\n",
       "1118          Nespoli, Paolo A.   60"
      ]
     },
     "execution_count": 123,
     "metadata": {},
     "output_type": "execute_result"
    }
   ],
   "source": [
    "# Find the name of the 5 oldest astronauts\n",
    "astronauts[['name', 'age']].sort_values(by='age', ascending=False).head(5)"
   ]
  },
  {
   "cell_type": "markdown",
   "metadata": {
    "slideshow": {
     "slide_type": "slide"
    }
   },
   "source": [
    "## Data visualisation with `seaborn`\n",
    "\n",
    "The `seaborn` documentation has a great [examples gallery](). Let's visualise some of the astronauts data.\n",
    "\n",
    "# 🚩🚩🚩 Example 5"
   ]
  },
  {
   "cell_type": "code",
   "execution_count": 116,
   "metadata": {
    "scrolled": false
   },
   "outputs": [
    {
     "data": {
      "text/plain": [
       "<seaborn.axisgrid.FacetGrid at 0x7f79750c2750>"
      ]
     },
     "execution_count": 116,
     "metadata": {},
     "output_type": "execute_result"
    },
    {
     "data": {
      "image/png": "[encoded data removed]",
      "text/plain": [
       "<Figure size 934.5x432 with 2 Axes>"
      ]
     },
     "metadata": {
      "needs_background": "light"
     },
     "output_type": "display_data"
    }
   ],
   "source": [
    "import seaborn as sns\n",
    "\n",
    "# Plot histograms using catplot\n",
    "grid = sns.catplot(data=astronauts,           # the dataframe\n",
    "                   x='year_of_mission',       # the x-axis (the bins)\n",
    "                   col='military_civilian',   # separate plots for each value in the column 'military_civilian'\n",
    "                   hue='sex',                 # different colours (hues) for male and female astronauts\n",
    "                   kind='count',              # the type of plot (countplot, or a histogram)\n",
    "                   legend=True,               # display the legend for the different colours\n",
    "                   col_wrap=1,                # start new row of subplots after just 1 plot\n",
    "                   height=3,                  # height of each plot\n",
    "                   aspect=4)                  # aspect ratio of each plot (width/height)\n",
    "\n",
    "# Rotate the tick labels so we can read them all\n",
    "grid.set_xticklabels(rotation=45,\n",
    "                     verticalalignment='top',\n",
    "                     horizontalalignment='right')"
   ]
  },
  {
   "cell_type": "markdown",
   "metadata": {
    "slideshow": {
     "slide_type": "subslide"
    }
   },
   "source": [
    "Let's look at flights to Mir and to the International Space Station."
   ]
  },
  {
   "cell_type": "code",
   "execution_count": 117,
   "metadata": {
    "scrolled": false
   },
   "outputs": [
    {
     "data": {
      "text/plain": [
       "<seaborn.axisgrid.FacetGrid at 0x7f79b89ea810>"
      ]
     },
     "execution_count": 117,
     "metadata": {},
     "output_type": "execute_result"
    },
    {
     "data": {
      "image/png": "[encoded data removed]",
      "text/plain": [
       "<Figure size 969.125x432 with 1 Axes>"
      ]
     },
     "metadata": {
      "needs_background": "light"
     },
     "output_type": "display_data"
    }
   ],
   "source": [
    "# \"|\" here means \"or\", but works on whole dataframes\n",
    "rows = (astronauts['in_orbit'] == 'Mir') | (astronauts['in_orbit'] == 'ISS')\n",
    "columns = ['year_of_mission', 'ascend_shuttle', 'in_orbit', 'hours_mission']\n",
    "station_trips = astronauts.loc[rows, columns]\n",
    "\n",
    "# Group labels together\n",
    "station_trips.loc[station_trips['ascend_shuttle'].str.contains('soyuz', case=False), 'ascend_shuttle'] = 'Soyuz'\n",
    "station_trips.loc[station_trips['ascend_shuttle'].str.contains('sts', case=False), 'ascend_shuttle'] = 'Space Shuttle'\n",
    "\n",
    "ax = sns.relplot(data=station_trips,\n",
    "                 x='year_of_mission',\n",
    "                 y='hours_mission',\n",
    "                 hue='ascend_shuttle',\n",
    "                 style='in_orbit',\n",
    "                 height=6,\n",
    "                 aspect=2)\n",
    "\n",
    "ax.set_xticklabels(rotation=45,\n",
    "                   verticalalignment='top',\n",
    "                   horizontalalignment='right')"
   ]
  },
  {
   "cell_type": "markdown",
   "metadata": {
    "slideshow": {
     "slide_type": "subslide"
    }
   },
   "source": [
    "# 🚩🚩🚩 Example 6\n",
    "\n",
    "- Change the code above to display the sex of the astronauts in 2 different colours, instead of the ascend shuttle.\n",
    "- Change `'hours_mission'` to `'age'` above to plot the age of astronauts going to Mir or the ISS over the years.\n",
    "- What is the average duration of a mission to Mir? to the ISS?\n",
    "- How long was the longest mission, in **days**? Who was the astronaut?\n",
    "- Which countries have sent civilians to space?\n",
    "- How many astronauts were from the USSR?"
   ]
  },
  {
   "cell_type": "code",
   "execution_count": 128,
   "metadata": {},
   "outputs": [
    {
     "name": "stdout",
     "output_type": "stream",
     "text": [
      "3962.129154929578\n",
      "4162.129655172414\n"
     ]
    }
   ],
   "source": [
    "# Average duration of a mission to Mir and to the ISS\n",
    "print(station_trips.loc[station_trips['in_orbit'] == 'Mir', 'hours_mission'].mean())\n",
    "print(station_trips.loc[station_trips['in_orbit'] == 'ISS', 'hours_mission'].mean())"
   ]
  },
  {
   "cell_type": "code",
   "execution_count": 132,
   "metadata": {},
   "outputs": [
    {
     "name": "stdout",
     "output_type": "stream",
     "text": [
      "437.7083333333333\n"
     ]
    },
    {
     "data": {
      "text/html": [
       "<div>\n",
       "<style scoped>\n",
       "    .dataframe tbody tr th:only-of-type {\n",
       "        vertical-align: middle;\n",
       "    }\n",
       "\n",
       "    .dataframe tbody tr th {\n",
       "        vertical-align: top;\n",
       "    }\n",
       "\n",
       "    .dataframe thead th {\n",
       "        text-align: right;\n",
       "    }\n",
       "</style>\n",
       "<table border=\"1\" class=\"dataframe\">\n",
       "  <thead>\n",
       "    <tr style=\"text-align: right;\">\n",
       "      <th></th>\n",
       "      <th>name</th>\n",
       "      <th>nationality</th>\n",
       "      <th>year_of_mission</th>\n",
       "    </tr>\n",
       "  </thead>\n",
       "  <tbody>\n",
       "    <tr>\n",
       "      <th>448</th>\n",
       "      <td>Polyakov, Valeri</td>\n",
       "      <td>U.S.S.R/Russia</td>\n",
       "      <td>1994</td>\n",
       "    </tr>\n",
       "  </tbody>\n",
       "</table>\n",
       "</div>"
      ],
      "text/plain": [
       "                 name     nationality  year_of_mission\n",
       "448  Polyakov, Valeri  U.S.S.R/Russia             1994"
      ]
     },
     "execution_count": 132,
     "metadata": {},
     "output_type": "execute_result"
    }
   ],
   "source": [
    "# Longest mission, in days, and astronaut name\n",
    "max_hours = station_trips['hours_mission'].max()\n",
    "print(max_hours / 24)\n",
    "\n",
    "# Display the name of the astronaut, nationality, and year of mission\n",
    "astronauts.loc[astronauts['hours_mission'] == max_hours, ['name', 'nationality', 'year_of_mission']]"
   ]
  },
  {
   "cell_type": "code",
   "execution_count": 135,
   "metadata": {
    "scrolled": true
   },
   "outputs": [
    {
     "name": "stdout",
     "output_type": "stream",
     "text": [
      "['U.S.S.R/Russia' 'U.S.' 'Mongolia' 'Romania' 'Hungry' 'Germany'\n",
      " 'Saudi Arabia' 'Netherland' 'Mexico' 'Japan' 'U.K.' 'Austria' 'Canada'\n",
      " 'Belgium' 'Switzerland' 'Italy' 'Australia' 'France' 'U.S.S.R/Ukraine'\n",
      " 'Spain' 'Republic of South Africa' 'U.K./U.S.' 'Sweden' 'Malysia' 'Korea'\n",
      " 'Denmark']\n",
      "26\n"
     ]
    }
   ],
   "source": [
    "# 26 countries have sent civilians to space\n",
    "print(astronauts.loc[astronauts['military_civilian'] == 'civilian', 'nationality'].unique())\n",
    "print(astronauts.loc[astronauts['military_civilian'] == 'civilian', 'nationality'].nunique())"
   ]
  },
  {
   "cell_type": "code",
   "execution_count": 137,
   "metadata": {},
   "outputs": [
    {
     "data": {
      "text/plain": [
       "123"
      ]
     },
     "execution_count": 137,
     "metadata": {},
     "output_type": "execute_result"
    }
   ],
   "source": [
    "# Count unique astronauts from the USSR (Russia + Ukraine)\n",
    "astronauts.loc[astronauts['nationality'].str.startswith('U.S.S.R'), 'name'].nunique()"
   ]
  },
  {
   "cell_type": "markdown",
   "metadata": {
    "slideshow": {
     "slide_type": "slide"
    }
   },
   "source": [
    "## What's next?\n",
    "\n",
    "Install Python to run code on your computer:\n",
    "- If you're interested in doing data science or scientific computing, install [Anaconda](https://www.anaconda.com/products/individual). This will install Python, Jupyter (what we've used today), Spyder (an IDE), together with lots of useful libraries, like pandas and seaborn we've seen today.\n",
    "- If you just want Python (e.g. for scripting), you can also [install it directly](https://www.python.org/downloads/)."
   ]
  },
  {
   "cell_type": "markdown",
   "metadata": {
    "slideshow": {
     "slide_type": "subslide"
    }
   },
   "source": [
    "## What's next?\n",
    "\n",
    "Learn more about Python:\n",
    "- The official [Python documentation](https://docs.python.org/3/) includes a comprehensive [tutorial](https://docs.python.org/3/tutorial/index.html) for beginners.\n",
    "- Two excellent free online books by Jake VanderPlas:\n",
    "    - [A Whirlwind Tour of Python](https://jakevdp.github.io/WhirlwindTourOfPython/)\n",
    "    - [The Python Data Science Handbook](https://jakevdp.github.io/PythonDataScienceHandbook/)\n",
    "- [Software Carpentry](https://software-carpentry.org/) is a non-profit which run regular workshops to teach Python (and other things!), for different levels of experience. All their teaching materials are open-source and [freely available online](https://software-carpentry.org/lessons/). The [Edinburgh branch](https://edcarp.github.io/) is also quite active and holds regular workshops (online at the moment!)."
   ]
  },
  {
   "cell_type": "markdown",
   "metadata": {
    "slideshow": {
     "slide_type": "subslide"
    }
   },
   "source": [
    "## What's next?\n",
    "\n",
    "Learn more about Python for data science and scientific computing:\n",
    "- The pandas documentation has excellent [Getting Started tutorials](https://pandas.pydata.org/docs/getting_started/intro_tutorials/) and [user guides](https://pandas.pydata.org/docs/user_guide/index.html). In particular, I'd recommend the tutorial [\"10 minutes to Pandas\"](https://pandas.pydata.org/docs/user_guide/10min.html).\n",
    "- The seaborn documentation also has great [tutorials](https://seaborn.pydata.org/tutorial.html) and a [showcase gallery](https://seaborn.pydata.org/examples/index.html).\n",
    "- For less data-oriented scientific computing, libraries like [NumPy](https://numpy.org/learn/) and [SciPy](https://www.scipy.org/getting-started.html) (also with a great [tutorial page](https://docs.scipy.org/doc/scipy/reference/tutorial/index.html)) are widely used, together with [matplotlib](https://matplotlib.org/1.5.3/users/beginner.html) for plotting."
   ]
  },
  {
   "cell_type": "markdown",
   "metadata": {
    "slideshow": {
     "slide_type": "slide"
    }
   },
   "source": [
    "# Thank you!"
   ]
  }
 ],
 "metadata": {
  "kernelspec": {
   "display_name": "Python 3",
   "language": "python",
   "name": "python3"
  },
  "language_info": {
   "codemirror_mode": {
    "name": "ipython",
    "version": 3
   },
   "file_extension": ".py",
   "mimetype": "text/x-python",
   "name": "python",
   "nbconvert_exporter": "python",
   "pygments_lexer": "ipython3",
   "version": "3.7.6"
  }
 },
 "nbformat": 4,
 "nbformat_minor": 4
}
