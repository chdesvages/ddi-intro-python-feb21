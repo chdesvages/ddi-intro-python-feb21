{
 "cells": [
  {
   "cell_type": "markdown",
   "metadata": {
    "slideshow": {
     "slide_type": "slide"
    }
   },
   "source": [
    "# Introduction to Python - DDI training session - 22 Feb 2021\n",
    "\n",
    "Charlotte Desvages"
   ]
  },
  {
   "cell_type": "markdown",
   "metadata": {
    "slideshow": {
     "slide_type": "slide"
    }
   },
   "source": [
    "## Welcome!\n",
    "\n",
    "Today I'll give you an overview of what Python looks like, some examples of what it can do, and point you towards great resources to continue learning."
   ]
  },
  {
   "cell_type": "markdown",
   "metadata": {
    "slideshow": {
     "slide_type": "fragment"
    }
   },
   "source": [
    "After a short break, the second part of the workshop will be a hands-on exercise where you will use Python to explore a dataset.\n",
    "\n",
    "We'll use a cloud service called Binder -- no need to install anything!"
   ]
  },
  {
   "cell_type": "markdown",
   "metadata": {
    "slideshow": {
     "slide_type": "subslide"
    }
   },
   "source": [
    "### Zoom communication\n",
    "\n",
    "At the bottom of the **participants list**:\n",
    "\n",
    "<img src=\"graphics/zoom.png\" alt=\"Zoom non-verbal feedback buttons.\" width=\"400\"/>\n",
    "\n",
    "You can also use the **chat** to ask questions."
   ]
  },
  {
   "cell_type": "markdown",
   "metadata": {
    "slideshow": {
     "slide_type": "subslide"
    }
   },
   "source": [
    "### Can I code along?\n",
    "\n",
    "Yes! [link]\n",
    "\n",
    "After clicking the link, you should see the content of these slides. This is a **Jupyter notebook** -- a Python programming environment that runs in your browser.\n",
    "\n",
    "When the binder is finished loading, scroll down until you see the flags. Then, click on the **code cell** just below, and click the <kbd>> Run</kbd> button in the toolbar at the top.\n",
    "\n",
    "# 🚩🚩🚩"
   ]
  },
  {
   "cell_type": "code",
   "execution_count": null,
   "metadata": {},
   "outputs": [],
   "source": [
    "print('Success!')"
   ]
  }
 ],
 "metadata": {
  "celltoolbar": "Slideshow",
  "kernelspec": {
   "display_name": "Python 3",
   "language": "python",
   "name": "python3"
  },
  "language_info": {
   "codemirror_mode": {
    "name": "ipython",
    "version": 3
   },
   "file_extension": ".py",
   "mimetype": "text/x-python",
   "name": "python",
   "nbconvert_exporter": "python",
   "pygments_lexer": "ipython3",
   "version": "3.7.6"
  }
 },
 "nbformat": 4,
 "nbformat_minor": 4
}
